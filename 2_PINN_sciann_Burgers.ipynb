{
 "cells": [
  {
   "cell_type": "markdown",
   "source": [
    "<a href=\"https://githubtocolab.com/PML-UCF/pml_workshops/blob/main/2_PINN_sciann_Burgers.ipynb\" target=\"_parent\"><img src=\"https://colab.research.google.com/assets/colab-badge.svg\" alt=\"Open in Colab\"/></a>"
   ],
   "metadata": {}
  },
  {
   "cell_type": "markdown",
   "source": [
    "SciANN-Burgers.ipynb\n",
    "\n",
    "An illustrain to use SciANN to solve Burgers problem introduced in: https://arxiv.org/pdf/1711.10561.pdf\n",
    "\n",
    "For additional details, please check our paper at: https://arxiv.org/abs/2005.08803\n",
    "\n",
    "Created by Ehsan Haghighat on 5/01/20.\n"
   ],
   "metadata": {
    "colab_type": "text",
    "id": "_GjAWEr3TthX"
   }
  },
  {
   "cell_type": "code",
   "execution_count": null,
   "source": [
    "# You need to have tensorflow, keras, and sciann installed in your system. \n",
    "# On google cloud, uncomment next line to install sciann. \n",
    "\n",
    "!pip install sciann"
   ],
   "outputs": [],
   "metadata": {
    "colab": {
     "base_uri": "https://localhost:8080/",
     "height": 853
    },
    "colab_type": "code",
    "id": "XX3szgj379Ef",
    "outputId": "5a072656-2473-4c21-d8cf-55e612e16368"
   }
  },
  {
   "cell_type": "code",
   "execution_count": null,
   "source": [
    "import numpy as np\n",
    "import matplotlib.pyplot as plt \n",
    "import sciann as sn "
   ],
   "outputs": [],
   "metadata": {
    "colab": {
     "base_uri": "https://localhost:8080/",
     "height": 187
    },
    "colab_type": "code",
    "id": "6AJcsTGv8Apr",
    "outputId": "b781e9e5-108c-4e74-c2c1-06c22c4c38d9"
   }
  },
  {
   "cell_type": "markdown",
   "source": [
    "# Burgers problem\n",
    "\n",
    "The governing equation is: \n",
    "$$\n",
    "  u_{,t} + u u_{,x} - (0.01 / \\pi) u_{,xx} = 0, \\quad t \\in [0, 1], \\quad x \\in [-1,1]\n",
    "$$\n",
    "subjected to \n",
    "$$\n",
    "u(t=0, x) = -\\sin(\\pi x), \\quad u(t, x=\\pm 1) = 0\n",
    "$$\n",
    "\n",
    "The objective is to solve this equation with PINN. "
   ],
   "metadata": {
    "colab_type": "text",
    "id": "akWSm5gp8OqZ"
   }
  },
  {
   "cell_type": "markdown",
   "source": [
    "## Step 1: Setting up the neural network\n",
    "\n",
    "The first step is to construct the approximation space. \n",
    "\n",
    "The independent variables are: $(t, x)$\n",
    "The field variable is: $u(t, x)\n",
    "\n",
    "The neural network approximation is defined as:\n",
    "$$\n",
    "\\hat{u}: (t, x) \\mapsto \\mathcal{N}_u(t,x; \\mathbf{W}, \\mathcal{b})\n",
    "$$\n",
    "\n",
    "Here, we use 8 hidden layers with 20 neural units and hyperbolic-tangent activation function. "
   ],
   "metadata": {
    "colab_type": "text",
    "id": "F0UC4jB3Um-y"
   }
  },
  {
   "cell_type": "code",
   "execution_count": null,
   "source": [
    "x = sn.Variable('x')\n",
    "t = sn.Variable('t')\n",
    "u = sn.Functional('u', [t,x], 8*[20], 'tanh')"
   ],
   "outputs": [],
   "metadata": {
    "colab": {},
    "colab_type": "code",
    "id": "IphAjNlN8I2s"
   }
  },
  {
   "cell_type": "markdown",
   "source": [
    "## Step 2: Setting up the optimzation problem\n",
    "\n",
    "The second step is to set up the optimization model using SciModel interface. Input variables are $(t, x)$ and targets are:\n",
    "\n",
    "*   $L_1 : ~~ u_{,t} + u u_{,x} - (0.01 / \\pi) u_{,xx}$"
   ],
   "metadata": {
    "colab_type": "text",
    "id": "ltCB-vse9rJQ"
   }
  },
  {
   "cell_type": "code",
   "execution_count": null,
   "source": [
    "from numpy import pi\n",
    "from sciann.utils.math import diff, sign, sin"
   ],
   "outputs": [],
   "metadata": {
    "colab": {},
    "colab_type": "code",
    "id": "i2SHomId-9Og"
   }
  },
  {
   "cell_type": "code",
   "execution_count": null,
   "source": [
    "L1 = diff(u, t) + u*diff(u,x) - (0.01/pi)*diff(u, x, order=2)"
   ],
   "outputs": [],
   "metadata": {
    "colab": {},
    "colab_type": "code",
    "id": "xh8wH6Hx9ox0"
   }
  },
  {
   "cell_type": "markdown",
   "source": [
    "Boundary conditions are: \n",
    "*   $C_1: ~~ (1+sign(0 - t))~(u + \\sin(\\pi x)$\n",
    "*   $C_2: ~~ (1+sign(-1 - x))~u$\n",
    "*   $C_3: ~~ (1+sign(x - 1))~u$\n"
   ],
   "metadata": {
    "colab_type": "text",
    "id": "U0gqvRzFWty3"
   }
  },
  {
   "cell_type": "code",
   "execution_count": null,
   "source": [
    "TOL = 0.001\n",
    "C1 = (1-sign(t - TOL)) * (u + sin(pi*x))\n",
    "C2 = (1-sign(x - (-1+TOL))) * (u)\n",
    "C3 = (1+sign(x - ( 1-TOL))) * (u)"
   ],
   "outputs": [],
   "metadata": {
    "colab": {},
    "colab_type": "code",
    "id": "4bDJqnnN-KWX"
   }
  },
  {
   "cell_type": "markdown",
   "source": [
    "The \"SciModel\" with multiple objects is now defined as:"
   ],
   "metadata": {
    "colab_type": "text",
    "id": "qvZ2Lr6oW9Qh"
   }
  },
  {
   "cell_type": "code",
   "execution_count": null,
   "source": [
    "m = sn.SciModel([x, t], [L1, C1, C2, C3])"
   ],
   "outputs": [],
   "metadata": {
    "colab": {},
    "colab_type": "code",
    "id": "38nC2ILu-47f"
   }
  },
  {
   "cell_type": "markdown",
   "source": [
    "## Sampling (collocation) grid "
   ],
   "metadata": {
    "colab_type": "text",
    "id": "By_guVFaXFLn"
   }
  },
  {
   "cell_type": "markdown",
   "source": [
    "To train the network, we need to define a sampling (collocation) grid."
   ],
   "metadata": {
    "colab_type": "text",
    "id": "fStfM5kp_Loz"
   }
  },
  {
   "cell_type": "code",
   "execution_count": null,
   "source": [
    "x_data, t_data = np.meshgrid(\n",
    "    np.linspace(-1, 1, 100), \n",
    "    np.linspace(0, 1, 100)\n",
    ")"
   ],
   "outputs": [],
   "metadata": {
    "colab": {
     "base_uri": "https://localhost:8080/",
     "height": 1000
    },
    "colab_type": "code",
    "id": "j5xeu5I1_I7k",
    "outputId": "71bbb521-fcfb-4e6e-c60f-7cb59694ccb1"
   }
  },
  {
   "cell_type": "markdown",
   "source": [
    "## Training\n",
    "\n",
    "We can then proform the training: "
   ],
   "metadata": {}
  },
  {
   "cell_type": "code",
   "execution_count": null,
   "source": [
    "EPOCHS=100\n",
    "h = m.train([x_data, t_data], 4*['zero'], learning_rate=0.002, epochs=EPOCHS, verbose=0)"
   ],
   "outputs": [],
   "metadata": {}
  },
  {
   "cell_type": "code",
   "execution_count": null,
   "source": [
    "plt.semilogy(h.history['loss'])"
   ],
   "outputs": [],
   "metadata": {}
  },
  {
   "cell_type": "markdown",
   "source": [
    "## Testing \n",
    "\n",
    "There are two ways to evaluate the functionals. \n",
    "\n",
    "1- eval without passing the model:\n",
    "* Not suggested - the data should be provided in the same order as it was defined in the functional: \"u = sn.Functional('u', [t,x], 8*[20], 'tanh')\"\n",
    "* u.eval([t_data, x_data])\n",
    "\n",
    "2- eval with model (suggested): \n",
    "* the data should be provided in the same order as it was defined in the SciModel: \"m = sn.SciModel([x, t], [L1, C1, C2, C3])\"\n",
    "* u.eval(m, [x_data, t_data]) "
   ],
   "metadata": {}
  },
  {
   "cell_type": "code",
   "execution_count": null,
   "source": [
    "x_test, t_test = np.meshgrid(\n",
    "    np.linspace(-1, 1, 200), \n",
    "    np.linspace(0, 1, 200)\n",
    ")\n",
    "u_pred = u.eval(m, [x_test, t_test])"
   ],
   "outputs": [],
   "metadata": {
    "colab": {},
    "colab_type": "code",
    "id": "xWlXzmX4_kU7"
   }
  },
  {
   "cell_type": "code",
   "execution_count": null,
   "source": [
    "fig = plt.figure(figsize=(3, 4))\n",
    "plt.pcolor(x_test, t_test, u_pred, cmap='seismic')\n",
    "plt.xlabel('x')\n",
    "plt.ylabel('t')\n",
    "plt.colorbar()"
   ],
   "outputs": [],
   "metadata": {
    "colab": {
     "base_uri": "https://localhost:8080/",
     "height": 286
    },
    "colab_type": "code",
    "id": "IvCO3phf_zvc",
    "outputId": "f583a05a-ed24-41d9-9f0f-2eaec063c7c4"
   }
  },
  {
   "cell_type": "code",
   "execution_count": null,
   "source": [],
   "outputs": [],
   "metadata": {
    "colab": {},
    "colab_type": "code",
    "id": "Z3Iyxjmr_4yx"
   }
  }
 ],
 "metadata": {
  "accelerator": "TPU",
  "colab": {
   "collapsed_sections": [],
   "name": "burgers.ipynb",
   "provenance": []
  },
  "kernelspec": {
   "name": "python3",
   "display_name": "Python 3.6.5 64-bit ('base': conda)"
  },
  "language_info": {
   "codemirror_mode": {
    "name": "ipython",
    "version": 3
   },
   "file_extension": ".py",
   "mimetype": "text/x-python",
   "name": "python",
   "nbconvert_exporter": "python",
   "pygments_lexer": "ipython3",
   "version": "3.6.5"
  },
  "interpreter": {
   "hash": "2c3bc7dc83c1a9b46d99db8b132f805da16834f865ffb3b3861549cbb2b21749"
  }
 },
 "nbformat": 4,
 "nbformat_minor": 1
}