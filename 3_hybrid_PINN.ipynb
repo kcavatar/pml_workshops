{
 "cells": [
  {
   "cell_type": "markdown",
   "source": [
    "<a href=\"https://githubtocolab.com/PML-UCF/pml_workshops/blob/main/3_hybrid_PINN.ipynb\" target=\"_parent\"><img src=\"https://colab.research.google.com/assets/colab-badge.svg\" alt=\"Open in Colab\"/></a>"
   ],
   "metadata": {}
  },
  {
   "cell_type": "markdown",
   "source": [
    "# Hybrid Physics-informed Neural Networks"
   ],
   "metadata": {}
  },
  {
   "cell_type": "markdown",
   "source": [
    "## Case Study: Fatigue Crack Propagation\n",
    "\n",
    "In this case study, we consider the tracking of low cycle fatigue damage.\n",
    "We are particularly interested in a control point that is monitored for a fleet of assets (e.g., compressors, aircraft, etc.).\n",
    "This control point sits on the center of large plate in which loads are applied perpendicularly to the crack plane.\n",
    "\n",
    "Under such circumstances, fatigue crack growth progresses following [Paris law](https://en.wikipedia.org/wiki/Paris%27_law):\n",
    "$$\n",
    "\\begin{equation}\n",
    "\\frac{da}{dN} = C \\left(\\Delta K(t) \\right)^{m} \\quad \\text{and} \\quad\n",
    "\\Delta K(t)   = F\\Delta S(t) \\sqrt{\\pi a(t)},\n",
    "\\end{equation}\n",
    "$$\n",
    "where $a$ is the fatigue crack length,\n",
    "$C$ and $m$ are material properties,\n",
    "$\\Delta K$ is the stress intensity range,\n",
    "$\\Delta S$ is the far-field cyclic stress time history, and\n",
    "$F$."
   ],
   "metadata": {}
  },
  {
   "cell_type": "code",
   "execution_count": null,
   "source": [
    "import pandas as pd\n",
    "import numpy as np\n",
    "import matplotlib.pyplot as plt\n",
    "from tensorflow.keras.layers import RNN, Dense, Layer\n",
    "from tensorflow.keras import Sequential\n",
    "from tensorflow.keras.optimizers import RMSprop\n",
    "from tensorflow.python.framework import tensor_shape\n",
    "from tensorflow import float32, concat, convert_to_tensor\n"
   ],
   "outputs": [],
   "metadata": {}
  },
  {
   "cell_type": "markdown",
   "source": [
    "## Case Study Data \n",
    "\n",
    "In this case study, fleet of aircraft are submitted to a wide range of loads (due to different missions and mission mixes).\n",
    "This explains the large variability in observed crack length after 5 years of operation."
   ],
   "metadata": {}
  },
  {
   "cell_type": "code",
   "execution_count": null,
   "source": [
    "# Paris law coefficients\n",
    "[C, m] = [1.5E-11, 3.8]\n",
    "\n",
    "# data\n",
    "Strain = np.asarray(pd.read_csv('./data/Strain.csv'))[:,:,np.newaxis]\n",
    "atrain = np.asarray(pd.read_csv('./data/atrain.csv'))\n",
    "atest = np.asarray(pd.read_csv('./data/atest.csv'))\n",
    "a0     = np.asarray(pd.read_csv('./data/a0.csv'))[0,0]*np.ones((Strain.shape[0],1))"
   ],
   "outputs": [],
   "metadata": {}
  },
  {
   "cell_type": "code",
   "execution_count": null,
   "source": [
    "fig, [ax1, ax2] = plt.subplots(1, 2, figsize=(10,4))\n",
    "ax1.plot(np.linspace(0,5,Strain.shape[1]),Strain[:,:,0].T)\n",
    "ax1.set_xlabel('years')\n",
    "ax1.set_ylabel('far field stress range, $\\\\Delta S$')\n",
    "ax1.grid()\n",
    "ax2.plot(np.linspace(0,5,atest.shape[1]),atest[:60,:].T, color='gray')\n",
    "ax2.plot([5]*atrain.shape[0],atest[:60,-1], 'ob')\n",
    "ax2.set_xlabel('years')\n",
    "ax2.set_ylabel('crack lenght, $a$')\n",
    "ax2.grid()\n",
    "plt.tight_layout()"
   ],
   "outputs": [],
   "metadata": {}
  },
  {
   "cell_type": "markdown",
   "source": [
    "## Hybrid implementation\n",
    "\n",
    "$\\Delta K_t$ can be estimated through a multilayer perceptron (MLP), which works as a corrector on any poor estimation of either $\\Delta S(t)$ or  $\\Delta K_t$ (should it have been implement through a physics-informed model).\n",
    "Therefore, we can simply use the Euler's forward method (with unit time step) to obtain:\n",
    "$$\n",
    "\\begin{align}\n",
    "&a_n = a_0 + \\sum_{t = 1}^{n}\\Delta a(\\Delta S_t, a_{t-1}), \\, ,  \\\\\n",
    "&\\Delta a_t = C \\Delta K_t^m \\, , \\quad \\text{and} \\quad\n",
    "\\Delta K_t = \\text{MLP} \\left( \\Delta S_t, a_{t-1}; \\mathbf{w}, \\mathbf{b} \\right)\\,, \n",
    "\\end{align}\n",
    "$$\n",
    "where $\\mathbf{w}$ and $\\mathbf{b}$ are the trainable hyperparameters."
   ],
   "metadata": {}
  },
  {
   "cell_type": "code",
   "execution_count": null,
   "source": [
    "\n",
    "class EulerIntegratorCell(Layer):\n",
    "    def __init__(self, C, m, dKlayer, a0=None, units=1, **kwargs):\n",
    "        super(EulerIntegratorCell, self).__init__(**kwargs)\n",
    "        self.units = units\n",
    "        self.C     = C\n",
    "        self.m     = m\n",
    "        self.a0    = a0\n",
    "        self.dKlayer     = dKlayer\n",
    "        self.state_size  = tensor_shape.TensorShape(self.units)\n",
    "        self.output_size = tensor_shape.TensorShape(self.units)\n",
    "\n",
    "    def build(self, input_shape, **kwargs):\n",
    "        self.built = True\n",
    "\n",
    "    def call(self, inputs, states):\n",
    "        inputs  = convert_to_tensor(inputs)\n",
    "        a_tm1   = convert_to_tensor(states)\n",
    "        x_d_tm1 = concat((inputs, a_tm1[0, :]), axis=1)\n",
    "        dk_t    = self.dKlayer(x_d_tm1)\n",
    "        da_t    = self.C * (dk_t ** self.m)\n",
    "        a       = da_t + a_tm1[0, :]\n",
    "        return a, [a]\n",
    "\n",
    "    def get_initial_state(self, inputs=None, batch_size=None, dtype=None):\n",
    "        return self.a0\n",
    "\n",
    "class Normalization(Layer):\n",
    "    def __init__(self, S_low, S_up, a_low, a_up, **kwargs):\n",
    "        super(Normalization, self).__init__(**kwargs)\n",
    "        self.low_bound_S   = S_low\n",
    "        self.upper_bound_S = S_up\n",
    "        self.low_bound_a   = a_low\n",
    "        self.upper_bound_a = a_up\n",
    "\n",
    "    def build(self, input_shape, **kwargs):\n",
    "        self.built = True\n",
    "\n",
    "    def call(self, inputs):\n",
    "        output  = (inputs - [self.low_bound_S, self.low_bound_a]) / [(self.upper_bound_S - self.low_bound_S), (self.upper_bound_a - self.low_bound_a)]\n",
    "        return output\n"
   ],
   "outputs": [],
   "metadata": {}
  },
  {
   "cell_type": "code",
   "execution_count": null,
   "source": [
    "def create_model(C, m, a0, dKlayer, batch_input_shape, return_sequences=False, return_state=False):\n",
    "    euler = EulerIntegratorCell(C=C, m=m, dKlayer=dKlayer, a0=a0, batch_input_shape=batch_input_shape)\n",
    "    PINN  = RNN(cell=euler, batch_input_shape=batch_input_shape, return_sequences=return_sequences, return_state=return_state)\n",
    "    model = Sequential()\n",
    "    model.add(PINN)\n",
    "    model.compile(loss='mse', optimizer=RMSprop(1e-2))\n",
    "    return model\n",
    "\n"
   ],
   "outputs": [],
   "metadata": {}
  },
  {
   "cell_type": "code",
   "execution_count": null,
   "source": [
    "# stress-intensity layer\n",
    "dKlayer = Sequential()\n",
    "dKlayer.add(Normalization(np.min(Strain), np.max(Strain), np.min(atrain), np.max(atrain)))\n",
    "dKlayer.add(Dense(5, activation='tanh'))\n",
    "dKlayer.add(Dense(1))"
   ],
   "outputs": [],
   "metadata": {}
  },
  {
   "cell_type": "code",
   "execution_count": null,
   "source": [
    "\n",
    "# weight initialization\n",
    "S_range  = np.linspace(np.min(Strain), np.max(Strain), 1000)\n",
    "a_range  = np.linspace(np.min(atrain), np.max(atrain), 1000)[np.random.permutation(np.arange(1000))]\n",
    "dK_range = -12.05 + 0.24 * S_range + 760.0 * a_range\n",
    "\n",
    "dKlayer.compile(loss='mse', optimizer=RMSprop(1e-2))\n",
    "inputs_train = np.transpose(np.asarray([S_range, a_range]))\n",
    "dKlayer.fit(inputs_train, dK_range, epochs=100)\n"
   ],
   "outputs": [],
   "metadata": {}
  },
  {
   "cell_type": "code",
   "execution_count": null,
   "source": [
    "model = create_model(C=C, m=m, a0=convert_to_tensor(a0, dtype=float32), dKlayer=dKlayer, batch_input_shape=Strain.shape)\n",
    "\n",
    "aPred_before = model.predict_on_batch(Strain)[:,:]"
   ],
   "outputs": [],
   "metadata": {}
  },
  {
   "cell_type": "code",
   "execution_count": null,
   "source": [
    "h = model.fit(Strain, atrain, epochs=100, steps_per_epoch=1, verbose=1)"
   ],
   "outputs": [],
   "metadata": {}
  },
  {
   "cell_type": "code",
   "execution_count": null,
   "source": [
    "aPred = model.predict_on_batch(Strain)[:,:]\n",
    "\n",
    "# plotting predictions\n",
    "fig = plt.figure()\n",
    "plt.plot([0,0.05],[0,0.05],'--k')\n",
    "plt.plot(atrain, aPred_before, 'o', label = 'before training')\n",
    "plt.plot(atrain, aPred, 's', label = 'after training')\n",
    "plt.xlabel(\"actual crack length (m)\")\n",
    "plt.ylabel(\"predicted crack length (m)\")\n",
    "plt.legend(loc = 'upper center',facecolor = 'w')\n",
    "plt.grid(which='both')\n",
    "plt.show()"
   ],
   "outputs": [],
   "metadata": {}
  }
 ],
 "metadata": {
  "kernelspec": {
   "name": "python3",
   "display_name": "Python 3.6.5 64-bit ('base': conda)"
  },
  "language_info": {
   "codemirror_mode": {
    "name": "ipython",
    "version": 3
   },
   "file_extension": ".py",
   "mimetype": "text/x-python",
   "name": "python",
   "nbconvert_exporter": "python",
   "pygments_lexer": "ipython3",
   "version": "3.6.5"
  },
  "interpreter": {
   "hash": "2c3bc7dc83c1a9b46d99db8b132f805da16834f865ffb3b3861549cbb2b21749"
  }
 },
 "nbformat": 4,
 "nbformat_minor": 2
}